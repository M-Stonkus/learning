{
 "cells": [
  {
   "cell_type": "code",
   "execution_count": 1,
   "id": "f5aababb-6a8c-428f-a112-a8eea60654a4",
   "metadata": {},
   "outputs": [],
   "source": [
    "import torch\n",
    "import torch.nn.functional as F\n",
    "import matplotlib.pyplot as plt"
   ]
  },
  {
   "cell_type": "code",
   "execution_count": 2,
   "id": "52ab1c1f-bd5e-434d-a062-55e2162ee97b",
   "metadata": {},
   "outputs": [],
   "source": [
    "words=[]\n",
    "with open('names.txt', 'r') as file:\n",
    "    words=file.read().splitlines()"
   ]
  },
  {
   "cell_type": "code",
   "execution_count": 3,
   "id": "067a6f1e-dc5e-46be-bec5-569683563691",
   "metadata": {},
   "outputs": [
    {
     "data": {
      "text/plain": [
       "32033"
      ]
     },
     "execution_count": 3,
     "metadata": {},
     "output_type": "execute_result"
    }
   ],
   "source": [
    "len(words)"
   ]
  },
  {
   "cell_type": "code",
   "execution_count": 4,
   "id": "deafefb7-b7c2-4b7f-8369-90b1d1f8b64d",
   "metadata": {},
   "outputs": [],
   "source": [
    "chars=sorted(list(set(''.join(words))))\n",
    "stoi={s:i+1 for i,s in enumerate(chars)}\n",
    "stoi['.']=0\n",
    "itos={i:s for s, i in stoi.items()}"
   ]
  },
  {
   "cell_type": "code",
   "execution_count": 5,
   "id": "0372036f-3f75-41a3-9b6a-1796af4cf35a",
   "metadata": {},
   "outputs": [
    {
     "name": "stdout",
     "output_type": "stream",
     "text": [
      "torch.Size([182625, 5]) torch.Size([182625])\n",
      "torch.Size([22655, 5]) torch.Size([22655])\n",
      "torch.Size([22866, 5]) torch.Size([22866])\n"
     ]
    }
   ],
   "source": [
    "block_size=5 #how many character to use to predict next one\n",
    "def build_dataset(words):\n",
    "    \n",
    "    X,Y=[],[]\n",
    "    for w in words:\n",
    "        #print(w)\n",
    "        context=[0]*block_size\n",
    "        for ch in w+'.':\n",
    "            ix=stoi[ch]\n",
    "            X.append(context)\n",
    "            Y.append(ix)\n",
    "            #print(''.join(itos[i] for i in context), '--->', itos[ix])\n",
    "            context = context[1:] + [ix]\n",
    "\n",
    "    X=torch.tensor(X)\n",
    "    Y=torch.tensor(Y)\n",
    "    print(X.shape,Y.shape)\n",
    "    return X,Y\n",
    "\n",
    "import random\n",
    "random.seed(42)\n",
    "random.shuffle(words)\n",
    "n1=int(0.8*len(words))\n",
    "n2=int(0.9*len(words))\n",
    "\n",
    "Xtr,Ytr = build_dataset(words[:n1])\n",
    "Xdev,Ydev = build_dataset(words[n1:n2])\n",
    "Xte,Yte = build_dataset(words[n2:])"
   ]
  },
  {
   "cell_type": "code",
   "execution_count": null,
   "id": "172c87e4-ba06-4f6e-bd52-538569170f14",
   "metadata": {},
   "outputs": [],
   "source": []
  },
  {
   "cell_type": "code",
   "execution_count": 6,
   "id": "01f59253-a5cc-4774-b845-ff0217a59bde",
   "metadata": {},
   "outputs": [],
   "source": [
    "embedding_dim=20\n",
    "hidden_layer_neurons=180\n",
    "\n",
    "g=torch.Generator().manual_seed(2147483647)\n",
    "C=torch.randn((27,embedding_dim), generator = g)\n",
    "W1=torch.randn((block_size*embedding_dim, hidden_layer_neurons), generator = g)\n",
    "b1=torch.randn(hidden_layer_neurons, generator = g)\n",
    "W2=torch.randn((hidden_layer_neurons,27), generator = g)\n",
    "b2=torch.randn(27, generator = g)\n",
    "parameters=[C, W1, b1, W2, b2]\n",
    "for p in parameters:\n",
    "    p.requires_grad = True"
   ]
  },
  {
   "cell_type": "code",
   "execution_count": 7,
   "id": "91d0f2b2-32c4-4ae3-b424-78378b155640",
   "metadata": {},
   "outputs": [
    {
     "data": {
      "text/plain": [
       "23607"
      ]
     },
     "execution_count": 7,
     "metadata": {},
     "output_type": "execute_result"
    }
   ],
   "source": [
    "sum(p.nelement() for p in parameters)"
   ]
  },
  {
   "cell_type": "code",
   "execution_count": 8,
   "id": "3977ca47-ca13-4f00-8e9c-c761be94f1ba",
   "metadata": {},
   "outputs": [],
   "source": [
    "lre=torch.linspace(-3,0,1000)\n",
    "lrs=10**lre"
   ]
  },
  {
   "cell_type": "code",
   "execution_count": 9,
   "id": "1441da6c-fa68-4302-b25b-08d57906abb3",
   "metadata": {},
   "outputs": [],
   "source": [
    "lri=[]\n",
    "lossi=[]\n",
    "stepi=[]"
   ]
  },
  {
   "cell_type": "code",
   "execution_count": 10,
   "id": "f8d42601-49ad-4252-a26d-dcf5e3e863f2",
   "metadata": {},
   "outputs": [
    {
     "name": "stdout",
     "output_type": "stream",
     "text": [
      "2.1436269283294678\n"
     ]
    }
   ],
   "source": [
    "batch_size=32\n",
    "max_steps=300000\n",
    "for i in range(max_steps):\n",
    "    #mini-batch\n",
    "    ix=torch.randint(0,Xtr.shape[0],(batch_size,))\n",
    "    \n",
    "    #forward pass\n",
    "    emb= C[Xtr[ix]]\n",
    "    h=torch.tanh(emb.view(-1,block_size*embedding_dim) @ W1 + b1)\n",
    "    logits = h @ W2 + b2\n",
    "    #counts = torch.exp(logits)\n",
    "    #prob = counts / counts.sum(1, keepdims=True)\n",
    "    #loss=-prob[torch.arange(32), Y].log().mean()\n",
    "    loss=F.cross_entropy(logits, Ytr[ix])\n",
    "    #print(loss.item())\n",
    "    \n",
    "    #backward pass\n",
    "    for p in parameters:\n",
    "        p.grad=None\n",
    "    loss.backward()\n",
    "    \n",
    "    #update\n",
    "    #lr = lrs[i]\n",
    "    lr=0.1\n",
    "    if i>int(max_steps/3):\n",
    "        lr=0.02\n",
    "    if i>int(max_steps/3*2):\n",
    "        lr=0.004\n",
    "    for p in parameters:\n",
    "        p.data += -lr * p.grad\n",
    "\n",
    "    #track\n",
    "    #lri.append(lre[i])\n",
    "    stepi.append(i)\n",
    "    lossi.append(loss.log10().item())\n",
    "        \n",
    "print(loss.item())"
   ]
  },
  {
   "cell_type": "code",
   "execution_count": 11,
   "id": "4cd08a7b-9e7c-4300-a108-666af17d4ba1",
   "metadata": {},
   "outputs": [
    {
     "data": {
      "text/plain": [
       "[<matplotlib.lines.Line2D at 0x16708bc4b90>]"
      ]
     },
     "execution_count": 11,
     "metadata": {},
     "output_type": "execute_result"
    },
    {
     "data": {
      "image/png": "[encoded data removed]",
      "text/plain": [
       "<Figure size 640x480 with 1 Axes>"
      ]
     },
     "metadata": {},
     "output_type": "display_data"
    }
   ],
   "source": [
    "plt.plot(stepi,lossi)"
   ]
  },
  {
   "cell_type": "code",
   "execution_count": 12,
   "id": "35e7074a-b33c-473f-87ee-a2dc7051688b",
   "metadata": {},
   "outputs": [
    {
     "data": {
      "text/plain": [
       "2.206448554992676"
      ]
     },
     "execution_count": 12,
     "metadata": {},
     "output_type": "execute_result"
    }
   ],
   "source": [
    "emb= C[Xdev]\n",
    "h=torch.tanh(emb.view(-1,block_size*embedding_dim) @ W1 + b1)\n",
    "logits = h @ W2 + b2\n",
    "loss=F.cross_entropy(logits, Ydev)\n",
    "loss.item()"
   ]
  },
  {
   "cell_type": "code",
   "execution_count": 13,
   "id": "35fda1de-aee5-4d23-9e69-b437832b543e",
   "metadata": {},
   "outputs": [
    {
     "data": {
      "image/png": "[encoded data removed]",
      "text/plain": [
       "<Figure size 800x800 with 1 Axes>"
      ]
     },
     "metadata": {},
     "output_type": "display_data"
    }
   ],
   "source": [
    "#makes sence only when embedding_dim==2\n",
    "plt.figure(figsize=(8,8))\n",
    "plt.scatter(C[:,0].data, C[:,1].data,s=200)\n",
    "for i in range(C.shape[0]):\n",
    "    plt.text(C[i,0].item(), C[i,1].item(),itos[i],ha=\"center\",va=\"center\", color=\"white\")\n",
    "plt.grid('minor')"
   ]
  },
  {
   "cell_type": "code",
   "execution_count": 16,
   "id": "f21ef01d-feea-4ee8-898e-e5dd1287f7c9",
   "metadata": {},
   "outputs": [
    {
     "name": "stdout",
     "output_type": "stream",
     "text": [
      "tensor([[9.0519e-06, 1.3643e-01, 3.6115e-02, 4.1822e-02, 5.4431e-02, 4.9713e-02,\n",
      "         1.1107e-02, 2.6511e-02, 2.6357e-02, 2.1239e-02, 8.7758e-02, 1.0214e-01,\n",
      "         4.7471e-02, 7.1390e-02, 3.7932e-02, 1.3118e-02, 1.3980e-02, 2.6052e-03,\n",
      "         4.7148e-02, 6.8731e-02, 3.1222e-02, 2.4875e-03, 1.1352e-02, 9.8222e-03,\n",
      "         4.4324e-03, 1.7847e-02, 2.6830e-02]], grad_fn=<SoftmaxBackward0>)\n",
      "tensor([[1.8751e-07, 4.8084e-01, 1.2550e-04, 1.0368e-03, 8.2935e-04, 1.6871e-01,\n",
      "         9.4892e-06, 9.8172e-05, 1.3091e-02, 1.1571e-01, 4.9954e-04, 2.0708e-04,\n",
      "         2.0151e-03, 1.1478e-03, 4.9107e-04, 1.2051e-01, 1.7091e-04, 6.4907e-06,\n",
      "         1.2526e-02, 1.0975e-03, 6.4569e-04, 3.6296e-02, 1.8022e-04, 1.0315e-03,\n",
      "         9.4487e-06, 4.2196e-02, 5.2331e-04]], grad_fn=<SoftmaxBackward0>)\n",
      "tensor([[0.0022, 0.0176, 0.0167, 0.0234, 0.0347, 0.0315, 0.0060, 0.0101, 0.0359,\n",
      "         0.0812, 0.0069, 0.0305, 0.0932, 0.0606, 0.1187, 0.0097, 0.0046, 0.0031,\n",
      "         0.1217, 0.0656, 0.0276, 0.0103, 0.0378, 0.0094, 0.0097, 0.1113, 0.0200]],\n",
      "       grad_fn=<SoftmaxBackward0>)\n",
      "tensor([[0.0166, 0.1805, 0.0115, 0.0092, 0.0189, 0.1184, 0.0012, 0.0081, 0.0128,\n",
      "         0.2602, 0.0026, 0.0192, 0.0417, 0.0100, 0.0052, 0.0593, 0.0050, 0.0028,\n",
      "         0.0632, 0.0203, 0.0248, 0.0173, 0.0086, 0.0029, 0.0003, 0.0734, 0.0061]],\n",
      "       grad_fn=<SoftmaxBackward0>)\n",
      "tensor([[9.2723e-03, 1.6925e-01, 5.1493e-06, 2.3183e-04, 2.7260e-04, 1.7408e-01,\n",
      "         5.2130e-05, 4.6828e-05, 9.0128e-04, 4.5292e-01, 1.9030e-05, 2.0125e-04,\n",
      "         8.5102e-03, 2.4225e-04, 3.7311e-03, 6.8778e-02, 1.2099e-05, 1.6072e-06,\n",
      "         4.7302e-03, 1.0336e-03, 2.1489e-03, 1.2790e-02, 4.4171e-04, 1.6899e-04,\n",
      "         2.2520e-07, 9.0128e-02, 3.7116e-05]], grad_fn=<SoftmaxBackward0>)\n",
      "tensor([[5.9302e-01, 2.7525e-02, 2.1799e-04, 3.5411e-02, 1.0711e-02, 1.6808e-02,\n",
      "         1.2993e-03, 2.0115e-02, 4.5864e-05, 2.7988e-03, 8.9947e-05, 8.3027e-03,\n",
      "         1.7082e-02, 1.3345e-02, 1.9320e-01, 5.8462e-03, 7.1991e-05, 1.0183e-03,\n",
      "         2.6431e-03, 2.0596e-02, 2.1184e-02, 7.2715e-04, 2.2317e-03, 3.0313e-06,\n",
      "         1.2836e-03, 2.5330e-03, 1.8854e-03]], grad_fn=<SoftmaxBackward0>)\n",
      "tensor([[7.2945e-02, 2.0827e-01, 3.9784e-07, 2.5448e-04, 1.1176e-03, 2.8497e-01,\n",
      "         7.8520e-08, 2.0562e-06, 2.6886e-06, 2.8498e-01, 3.0563e-06, 4.0523e-03,\n",
      "         1.2405e-04, 6.0898e-05, 1.1186e-03, 5.3319e-02, 4.6038e-08, 3.2241e-08,\n",
      "         1.4362e-04, 2.9427e-04, 3.2248e-04, 1.0910e-02, 3.7093e-07, 1.5549e-04,\n",
      "         1.2116e-08, 7.6942e-02, 1.1340e-05]], grad_fn=<SoftmaxBackward0>)\n",
      "tensor([[2.7154e-01, 8.9853e-03, 1.1218e-03, 8.6731e-04, 1.0880e-02, 4.3177e-02,\n",
      "         1.8610e-05, 7.7058e-05, 1.2588e-02, 2.6553e-02, 1.5354e-03, 5.4179e-03,\n",
      "         9.3611e-02, 5.1905e-03, 2.6050e-01, 2.0275e-03, 6.5160e-05, 3.0075e-05,\n",
      "         9.3214e-02, 6.3333e-03, 7.6195e-02, 1.4434e-02, 8.6539e-04, 6.2765e-03,\n",
      "         1.4020e-06, 5.8236e-02, 2.5416e-04]], grad_fn=<SoftmaxBackward0>)\n",
      "tensor([[7.1375e-01, 4.4618e-02, 6.4317e-04, 2.0677e-02, 1.1177e-02, 3.6603e-02,\n",
      "         4.4210e-06, 5.2572e-03, 2.4889e-03, 6.0350e-02, 3.6638e-06, 3.0477e-04,\n",
      "         3.7081e-03, 2.0464e-03, 4.3452e-02, 9.2492e-03, 1.8593e-05, 3.5143e-07,\n",
      "         2.2853e-03, 1.4460e-02, 1.9639e-02, 1.0103e-03, 1.5120e-04, 1.9203e-06,\n",
      "         8.7398e-05, 6.0739e-03, 1.9353e-03]], grad_fn=<SoftmaxBackward0>)\n",
      "tensor([[7.0905e-01, 4.0155e-03, 5.0714e-04, 5.0963e-03, 1.5122e-02, 2.8280e-02,\n",
      "         2.2850e-04, 1.0911e-03, 2.8516e-02, 8.7648e-03, 5.8539e-03, 2.5457e-03,\n",
      "         1.0412e-02, 1.6486e-02, 7.8839e-02, 1.8254e-03, 1.1235e-04, 1.7359e-04,\n",
      "         2.3532e-02, 2.0506e-02, 1.2167e-02, 4.7857e-03, 6.7453e-03, 8.7892e-04,\n",
      "         3.5007e-04, 1.0175e-02, 3.9380e-03]], grad_fn=<SoftmaxBackward0>)\n",
      "marrymena\n",
      "tensor([[9.0519e-06, 1.3643e-01, 3.6115e-02, 4.1822e-02, 5.4431e-02, 4.9713e-02,\n",
      "         1.1107e-02, 2.6511e-02, 2.6357e-02, 2.1239e-02, 8.7758e-02, 1.0214e-01,\n",
      "         4.7471e-02, 7.1390e-02, 3.7932e-02, 1.3118e-02, 1.3980e-02, 2.6052e-03,\n",
      "         4.7148e-02, 6.8731e-02, 3.1222e-02, 2.4875e-03, 1.1352e-02, 9.8222e-03,\n",
      "         4.4324e-03, 1.7847e-02, 2.6830e-02]], grad_fn=<SoftmaxBackward0>)\n",
      "tensor([[1.5376e-06, 3.4229e-02, 3.8054e-02, 1.0776e-02, 8.0337e-02, 1.3613e-02,\n",
      "         4.5879e-03, 3.9905e-03, 2.9420e-02, 2.7660e-02, 5.9785e-03, 1.9914e-02,\n",
      "         1.5985e-01, 7.0398e-02, 1.2925e-01, 6.5490e-03, 4.2895e-03, 1.5290e-03,\n",
      "         1.1746e-01, 6.4767e-02, 1.9822e-02, 3.1193e-02, 5.5965e-02, 3.7860e-03,\n",
      "         3.5624e-03, 3.2507e-02, 3.0511e-02]], grad_fn=<SoftmaxBackward0>)\n",
      "tensor([[1.5003e-03, 3.0962e-01, 1.0269e-02, 1.4352e-03, 1.5621e-02, 1.6252e-01,\n",
      "         2.3427e-03, 3.1911e-03, 1.3311e-02, 2.3178e-01, 1.4841e-03, 1.6420e-03,\n",
      "         2.4203e-02, 1.9247e-02, 3.4201e-03, 4.9439e-02, 3.3578e-03, 6.8735e-05,\n",
      "         3.4692e-02, 8.2062e-03, 1.1315e-02, 2.7380e-02, 5.9620e-03, 2.2827e-03,\n",
      "         1.4951e-04, 5.2426e-02, 3.1415e-03]], grad_fn=<SoftmaxBackward0>)\n",
      "tensor([[0.0140, 0.2010, 0.0048, 0.0090, 0.0121, 0.1095, 0.0042, 0.0114, 0.0016,\n",
      "         0.0645, 0.0034, 0.0237, 0.1034, 0.0074, 0.1237, 0.0402, 0.0020, 0.0024,\n",
      "         0.0462, 0.0934, 0.0249, 0.0076, 0.0128, 0.0045, 0.0195, 0.0399, 0.0130]],\n",
      "       grad_fn=<SoftmaxBackward0>)\n",
      "tensor([[3.1567e-01, 1.7907e-01, 5.6773e-04, 2.5820e-03, 9.9408e-03, 5.1019e-02,\n",
      "         7.2763e-05, 8.0256e-03, 3.1008e-02, 5.4002e-02, 1.0256e-03, 3.8423e-03,\n",
      "         1.2564e-02, 1.4045e-03, 1.9155e-01, 2.6609e-02, 3.2558e-04, 1.7636e-04,\n",
      "         1.2374e-02, 3.9821e-02, 2.1653e-02, 3.5147e-03, 5.3959e-04, 5.7365e-04,\n",
      "         5.9396e-05, 2.0011e-02, 1.2008e-02]], grad_fn=<SoftmaxBackward0>)\n",
      "tensor([[5.4837e-01, 1.1942e-01, 1.3834e-05, 1.2973e-03, 3.2946e-04, 1.9135e-01,\n",
      "         7.0778e-06, 3.1424e-03, 3.9607e-06, 5.8225e-02, 6.7184e-06, 6.9311e-05,\n",
      "         4.0334e-05, 1.1768e-04, 4.5057e-03, 4.2250e-02, 2.4842e-07, 2.5781e-06,\n",
      "         4.6195e-04, 8.0215e-04, 2.0246e-03, 6.7874e-04, 1.2027e-05, 4.7946e-06,\n",
      "         2.6845e-04, 2.6137e-02, 4.5863e-04]], grad_fn=<SoftmaxBackward0>)\n",
      "avinn\n",
      "tensor([[9.0519e-06, 1.3643e-01, 3.6115e-02, 4.1822e-02, 5.4431e-02, 4.9713e-02,\n",
      "         1.1107e-02, 2.6511e-02, 2.6357e-02, 2.1239e-02, 8.7758e-02, 1.0214e-01,\n",
      "         4.7471e-02, 7.1390e-02, 3.7932e-02, 1.3118e-02, 1.3980e-02, 2.6052e-03,\n",
      "         4.7148e-02, 6.8731e-02, 3.1222e-02, 2.4875e-03, 1.1352e-02, 9.8222e-03,\n",
      "         4.4324e-03, 1.7847e-02, 2.6830e-02]], grad_fn=<SoftmaxBackward0>)\n",
      "tensor([[5.4091e-07, 4.6744e-01, 1.3387e-03, 3.1839e-03, 3.1758e-03, 1.1577e-01,\n",
      "         9.8427e-05, 5.2499e-04, 2.2565e-02, 1.1416e-01, 6.8428e-04, 2.0121e-03,\n",
      "         6.4176e-03, 8.3144e-03, 1.8755e-03, 1.0031e-01, 7.5899e-04, 8.0067e-05,\n",
      "         1.4931e-02, 5.5402e-03, 8.8526e-03, 7.6992e-02, 2.7755e-03, 2.5238e-03,\n",
      "         6.8938e-04, 3.5523e-02, 3.4628e-03]], grad_fn=<SoftmaxBackward0>)\n",
      "tensor([[0.0023, 0.0160, 0.0139, 0.0251, 0.0326, 0.0348, 0.0062, 0.0107, 0.0356,\n",
      "         0.0988, 0.0075, 0.0330, 0.0756, 0.0637, 0.1051, 0.0100, 0.0037, 0.0041,\n",
      "         0.1002, 0.0653, 0.0286, 0.0094, 0.0400, 0.0094, 0.0113, 0.1344, 0.0228]],\n",
      "       grad_fn=<SoftmaxBackward0>)\n",
      "tensor([[0.0227, 0.0837, 0.0064, 0.0169, 0.0602, 0.0453, 0.0066, 0.0250, 0.0038,\n",
      "         0.0562, 0.0057, 0.0159, 0.1991, 0.0286, 0.1008, 0.0246, 0.0033, 0.0029,\n",
      "         0.0314, 0.1091, 0.0649, 0.0042, 0.0316, 0.0014, 0.0059, 0.0228, 0.0212]],\n",
      "       grad_fn=<SoftmaxBackward0>)\n",
      "tensor([[7.6319e-02, 2.8438e-01, 6.1966e-04, 9.1007e-04, 1.0740e-03, 2.9833e-01,\n",
      "         4.5557e-05, 9.2263e-04, 6.3269e-02, 6.2185e-02, 3.7948e-04, 5.3844e-03,\n",
      "         9.5688e-03, 5.8722e-04, 7.0472e-03, 7.8731e-02, 1.2613e-03, 4.7880e-05,\n",
      "         4.7878e-02, 5.0957e-03, 4.8227e-03, 9.4293e-03, 6.8919e-05, 2.9394e-04,\n",
      "         4.3001e-07, 4.0678e-02, 6.7540e-04]], grad_fn=<SoftmaxBackward0>)\n",
      "tensor([[2.9376e-01, 5.8333e-02, 3.0399e-03, 9.9904e-04, 1.3389e-03, 2.0778e-01,\n",
      "         7.7161e-06, 7.4851e-05, 2.8610e-03, 4.7137e-02, 3.8408e-05, 2.5361e-04,\n",
      "         1.8665e-02, 4.0105e-03, 1.3419e-01, 1.7634e-02, 6.9824e-04, 1.6254e-04,\n",
      "         1.3555e-02, 6.4261e-02, 1.1497e-01, 7.2669e-04, 2.6891e-04, 8.3705e-04,\n",
      "         1.8983e-05, 1.3458e-02, 9.1998e-04]], grad_fn=<SoftmaxBackward0>)\n",
      "yayge\n",
      "tensor([[9.0519e-06, 1.3643e-01, 3.6115e-02, 4.1822e-02, 5.4431e-02, 4.9713e-02,\n",
      "         1.1107e-02, 2.6511e-02, 2.6357e-02, 2.1239e-02, 8.7758e-02, 1.0214e-01,\n",
      "         4.7471e-02, 7.1390e-02, 3.7932e-02, 1.3118e-02, 1.3980e-02, 2.6052e-03,\n",
      "         4.7148e-02, 6.8731e-02, 3.1222e-02, 2.4875e-03, 1.1352e-02, 9.8222e-03,\n",
      "         4.4324e-03, 1.7847e-02, 2.6830e-02]], grad_fn=<SoftmaxBackward0>)\n",
      "tensor([[1.9711e-07, 2.7259e-01, 3.0590e-05, 1.7248e-03, 7.1185e-04, 1.7788e-01,\n",
      "         1.6560e-05, 1.5641e-04, 2.0282e-02, 1.7591e-01, 3.0965e-04, 8.3042e-04,\n",
      "         8.6511e-03, 2.3126e-04, 5.4046e-04, 1.8359e-01, 1.2348e-04, 2.1033e-06,\n",
      "         6.4318e-03, 1.5947e-03, 5.2665e-04, 7.4808e-02, 1.6249e-04, 1.3270e-03,\n",
      "         2.2669e-06, 7.0462e-02, 1.0958e-03]], grad_fn=<SoftmaxBackward0>)\n",
      "tensor([[0.0023, 0.0159, 0.0139, 0.0251, 0.0325, 0.0349, 0.0062, 0.0107, 0.0356,\n",
      "         0.0990, 0.0075, 0.0331, 0.0753, 0.0637, 0.1048, 0.0100, 0.0037, 0.0041,\n",
      "         0.0999, 0.0653, 0.0287, 0.0093, 0.0400, 0.0094, 0.0113, 0.1348, 0.0228]],\n",
      "       grad_fn=<SoftmaxBackward0>)\n",
      "tensor([[1.9001e-02, 1.1628e-01, 5.5012e-03, 5.8865e-03, 5.8931e-03, 1.2933e-01,\n",
      "         7.5184e-04, 4.0955e-03, 2.0127e-01, 1.4634e-01, 6.7543e-04, 1.8974e-02,\n",
      "         3.4892e-02, 1.3963e-02, 1.0996e-02, 7.1282e-02, 9.1593e-03, 1.0421e-03,\n",
      "         3.0605e-02, 3.4564e-02, 6.7233e-02, 2.4509e-02, 4.3218e-03, 1.0474e-03,\n",
      "         1.1856e-04, 3.6402e-02, 5.8694e-03]], grad_fn=<SoftmaxBackward0>)\n",
      "tensor([[0.0995, 0.1762, 0.0047, 0.0192, 0.0132, 0.1223, 0.0045, 0.0024, 0.0043,\n",
      "         0.0484, 0.0049, 0.0145, 0.0786, 0.0196, 0.1040, 0.0336, 0.0031, 0.0015,\n",
      "         0.0427, 0.0681, 0.0336, 0.0035, 0.0057, 0.0013, 0.0053, 0.0792, 0.0060]],\n",
      "       grad_fn=<SoftmaxBackward0>)\n",
      "tensor([[1.8362e-01, 7.6067e-02, 4.8648e-05, 5.6993e-04, 4.6359e-04, 1.3739e-01,\n",
      "         2.2574e-05, 4.5628e-06, 3.9987e-01, 2.7564e-02, 7.3702e-05, 5.2915e-04,\n",
      "         3.6344e-03, 2.7678e-04, 9.9423e-04, 1.0264e-01, 8.8489e-04, 7.8728e-09,\n",
      "         4.9670e-03, 2.0955e-02, 7.5576e-03, 8.5411e-04, 8.8048e-04, 5.1481e-06,\n",
      "         5.9990e-08, 2.6425e-02, 3.6977e-03]], grad_fn=<SoftmaxBackward0>)\n",
      "tensor([[2.5328e-01, 3.7517e-01, 3.4349e-02, 1.4752e-05, 3.4534e-04, 1.7746e-01,\n",
      "         6.6211e-04, 3.0153e-05, 3.9552e-04, 4.5092e-02, 8.4859e-05, 9.0996e-06,\n",
      "         8.9790e-05, 3.9997e-03, 9.3725e-03, 5.4688e-02, 5.4666e-04, 3.4715e-06,\n",
      "         2.2664e-02, 9.0851e-04, 9.0822e-04, 9.8329e-03, 1.5166e-05, 2.5594e-05,\n",
      "         1.3217e-05, 1.0025e-02, 1.4950e-05]], grad_fn=<SoftmaxBackward0>)\n",
      "tensor([[6.1930e-01, 1.3449e-02, 3.5791e-03, 3.4694e-04, 4.6456e-03, 8.2477e-03,\n",
      "         3.5296e-04, 1.7070e-03, 1.6220e-02, 3.3541e-03, 2.1948e-02, 2.0509e-03,\n",
      "         8.9941e-03, 7.9982e-03, 1.0641e-01, 8.3073e-04, 2.3904e-03, 3.9366e-06,\n",
      "         1.4217e-01, 6.1188e-03, 4.8870e-03, 8.0458e-03, 1.5611e-04, 1.2132e-02,\n",
      "         2.0864e-04, 3.8193e-03, 6.3023e-04]], grad_fn=<SoftmaxBackward0>)\n",
      "tensor([[3.2182e-01, 7.4936e-03, 3.4716e-06, 3.7395e-03, 2.8203e-01, 1.7016e-02,\n",
      "         4.4385e-06, 1.8470e-03, 8.3004e-05, 7.5162e-02, 5.2299e-06, 9.6412e-04,\n",
      "         1.6928e-01, 4.3936e-04, 1.9158e-02, 3.1268e-03, 1.8132e-06, 3.1204e-07,\n",
      "         1.7837e-03, 3.6429e-03, 3.6976e-02, 1.6463e-03, 6.0526e-04, 3.2878e-04,\n",
      "         1.7399e-06, 5.2498e-02, 3.4207e-04]], grad_fn=<SoftmaxBackward0>)\n",
      "rasithar\n",
      "tensor([[9.0519e-06, 1.3643e-01, 3.6115e-02, 4.1822e-02, 5.4431e-02, 4.9713e-02,\n",
      "         1.1107e-02, 2.6511e-02, 2.6357e-02, 2.1239e-02, 8.7758e-02, 1.0214e-01,\n",
      "         4.7471e-02, 7.1390e-02, 3.7932e-02, 1.3118e-02, 1.3980e-02, 2.6052e-03,\n",
      "         4.7148e-02, 6.8731e-02, 3.1222e-02, 2.4875e-03, 1.1352e-02, 9.8222e-03,\n",
      "         4.4324e-03, 1.7847e-02, 2.6830e-02]], grad_fn=<SoftmaxBackward0>)\n",
      "tensor([[2.9371e-07, 4.0910e-01, 3.2363e-04, 3.1085e-03, 1.4570e-03, 1.5663e-01,\n",
      "         2.7971e-05, 2.1917e-04, 6.2980e-02, 9.8541e-02, 6.3638e-04, 1.2703e-03,\n",
      "         6.9063e-03, 1.5355e-03, 6.8159e-04, 1.3498e-01, 6.2335e-04, 2.6318e-05,\n",
      "         3.1397e-02, 3.2246e-03, 1.8153e-03, 3.0008e-02, 3.3810e-04, 1.7305e-03,\n",
      "         3.3026e-05, 5.1057e-02, 1.3593e-03]], grad_fn=<SoftmaxBackward0>)\n",
      "tensor([[0.0017, 0.0214, 0.0293, 0.0140, 0.0362, 0.0166, 0.0042, 0.0064, 0.0301,\n",
      "         0.0287, 0.0041, 0.0176, 0.1798, 0.0399, 0.1601, 0.0066, 0.0091, 0.0008,\n",
      "         0.2232, 0.0537, 0.0189, 0.0126, 0.0237, 0.0074, 0.0041, 0.0405, 0.0092]],\n",
      "       grad_fn=<SoftmaxBackward0>)\n",
      "tensor([[0.0272, 0.1548, 0.0040, 0.0249, 0.0742, 0.0689, 0.0006, 0.0317, 0.0029,\n",
      "         0.1093, 0.0085, 0.0193, 0.0300, 0.0154, 0.1694, 0.0369, 0.0023, 0.0020,\n",
      "         0.0247, 0.0570, 0.0523, 0.0107, 0.0129, 0.0012, 0.0021, 0.0369, 0.0199]],\n",
      "       grad_fn=<SoftmaxBackward0>)\n",
      "tensor([[3.1658e-02, 1.1960e-01, 1.9708e-05, 2.6559e-04, 1.3838e-03, 1.6032e-01,\n",
      "         9.5539e-05, 4.0306e-04, 1.6351e-03, 5.3383e-01, 5.3210e-05, 2.0584e-04,\n",
      "         1.4941e-02, 5.2229e-04, 4.8893e-03, 3.9222e-02, 2.8464e-05, 1.1754e-06,\n",
      "         3.4477e-03, 2.9787e-03, 7.0092e-03, 9.1389e-03, 6.1864e-04, 2.5093e-04,\n",
      "         5.3314e-07, 6.7308e-02, 1.7367e-04]], grad_fn=<SoftmaxBackward0>)\n",
      "tensor([[2.3092e-01, 2.9890e-03, 1.0346e-03, 5.7785e-04, 2.6597e-02, 4.5089e-02,\n",
      "         2.1914e-06, 9.0580e-04, 1.1763e-02, 6.8839e-03, 1.4098e-05, 4.0515e-04,\n",
      "         2.3990e-01, 4.6564e-04, 5.5015e-02, 1.5458e-03, 6.9205e-05, 4.9305e-04,\n",
      "         1.8580e-01, 8.6391e-02, 6.0653e-02, 1.9171e-04, 1.0701e-04, 1.1130e-05,\n",
      "         2.5138e-03, 3.8798e-02, 8.7160e-04]], grad_fn=<SoftmaxBackward0>)\n",
      "tensor([[2.2145e-01, 5.4134e-02, 6.2038e-06, 9.5310e-04, 8.3101e-03, 3.6635e-02,\n",
      "         1.5909e-05, 7.8921e-05, 6.9930e-05, 1.2716e-01, 1.4223e-04, 6.4348e-04,\n",
      "         4.2415e-01, 4.5250e-04, 3.5622e-03, 2.9259e-02, 7.9690e-05, 1.7437e-07,\n",
      "         2.4749e-03, 5.4431e-03, 1.6864e-03, 5.7411e-03, 1.4780e-05, 1.0727e-04,\n",
      "         2.5890e-07, 7.7073e-02, 3.5926e-04]], grad_fn=<SoftmaxBackward0>)\n",
      "tensor([[4.9453e-01, 1.6080e-01, 8.6626e-07, 1.4285e-03, 6.5311e-04, 1.9297e-01,\n",
      "         1.1491e-05, 4.1589e-04, 6.2864e-05, 3.3573e-02, 1.9828e-03, 5.9981e-05,\n",
      "         9.7526e-03, 2.4160e-04, 2.2688e-03, 1.7456e-02, 9.7028e-06, 1.1610e-04,\n",
      "         2.6567e-04, 8.2226e-03, 8.1748e-03, 1.5763e-04, 3.4564e-06, 7.0024e-04,\n",
      "         2.4003e-03, 6.3044e-02, 7.0543e-04]], grad_fn=<SoftmaxBackward0>)\n",
      "konnell\n"
     ]
    }
   ],
   "source": [
    "for i in range(5):\n",
    "\n",
    "    out=[]\n",
    "    context =[0]*block_size\n",
    "    while True:\n",
    "        emb = C[torch.tensor([context])]\n",
    "        h=torch.tanh(emb.view(1,-1) @ W1 + b1)\n",
    "        logits = h @ W2 + b2\n",
    "        probs = torch.softmax(logits, dim=1)\n",
    "        print(probs)\n",
    "        ix = torch.multinomial(probs, num_samples=1, replacement=True, generator=g).item()\n",
    "        context=context[1:]+[ix]\n",
    "        if ix == 0:\n",
    "            break\n",
    "        else:\n",
    "            out.append(ix)\n",
    "\n",
    "    print(''.join(itos[i] for i in out))"
   ]
  },
  {
   "cell_type": "code",
   "execution_count": null,
   "id": "532a7514-4290-4421-9b1a-1707a1f347aa",
   "metadata": {},
   "outputs": [],
   "source": []
  },
  {
   "cell_type": "code",
   "execution_count": null,
   "id": "25e60c87-eb12-4c3e-9751-7e3af04a9dd2",
   "metadata": {},
   "outputs": [],
   "source": []
  }
 ],
 "metadata": {
  "kernelspec": {
   "display_name": "Python [conda env:base] *",
   "language": "python",
   "name": "conda-base-py"
  },
  "language_info": {
   "codemirror_mode": {
    "name": "ipython",
    "version": 3
   },
   "file_extension": ".py",
   "mimetype": "text/x-python",
   "name": "python",
   "nbconvert_exporter": "python",
   "pygments_lexer": "ipython3",
   "version": "3.13.5"
  }
 },
 "nbformat": 4,
 "nbformat_minor": 5
}
